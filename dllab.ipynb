{
  "nbformat": 4,
  "nbformat_minor": 0,
  "metadata": {
    "colab": {
      "provenance": [],
      "gpuType": "T4"
    },
    "kernelspec": {
      "name": "python3",
      "display_name": "Python 3"
    },
    "language_info": {
      "name": "python"
    },
    "accelerator": "GPU"
  },
  "cells": [
    {
      "cell_type": "code",
      "source": [
        "import numpy as np\n",
        "\n",
        "def stepfunction(value):\n",
        "  return np.where(value>0,1,0)"
      ],
      "metadata": {
        "id": "vpw2HXF-EjHK"
      },
      "execution_count": null,
      "outputs": []
    },
    {
      "cell_type": "code",
      "source": [
        "#Actual perceptron\n",
        "#Just call it by creating an object for Perceptron\n",
        "class Perceptron:\n",
        "  def __init__(self, l_rate, n_epochs):\n",
        "    self.epochs = n_epochs\n",
        "    self.rate = l_rate\n",
        "    self.weights = None\n",
        "    self.activ_function = stepfunction\n",
        "    self.bias = None\n",
        "\n",
        "  def train(self,X,Y):\n",
        "    n_samples, n_features = X.shape #returns (len_dataset, n_features)\n",
        "    self.weights = np.random.rand(1,n_features)\n",
        "    self.bias = 0\n",
        "    labels_input = np.where(Y>0,1,0)\n",
        "    for _ in range(self.epochs):\n",
        "      for idx,x_i in enumerate(X):\n",
        "        linear_output = np.dot(x_i, self.weights.T)+self.bias\n",
        "        y_pred = self.activ_function(linear_output)\n",
        "\n",
        "        #update the weights and bias\n",
        "        self.weights += (labels_input[idx] - y_pred)*self.rate*x_i\n",
        "        self.bias += (labels_input[idx] - y_pred)*self.rate\n",
        "    return self.weights\n",
        "  #for prediction of test data\n",
        "  def predict(self, test_data):\n",
        "    output = np.dot(test_data, self.weights.T) + self.bias\n",
        "    ypred = self.activ_function(output)\n",
        "    return ypred"
      ],
      "metadata": {
        "id": "1zMOpGNuEqLp"
      },
      "execution_count": null,
      "outputs": []
    },
    {
      "cell_type": "code",
      "source": [
        "#test the perceptron\n",
        "data = []\n",
        "for _ in range(100):\n",
        "  temp = np.random.rand(5)\n",
        "  data.append(temp)\n",
        "input_data = np.array(data)\n",
        "input_labels = np.round(np.random.rand(100))"
      ],
      "metadata": {
        "id": "dRAuXIMSEx34"
      },
      "execution_count": null,
      "outputs": []
    },
    {
      "cell_type": "code",
      "source": [
        "#obj for class\n",
        "\n",
        "p = Perceptron(l_rate=0.03, n_epochs=50)\n",
        "p.train(input_data, input_labels)\n",
        "\n",
        "#predicted = p.predict(test)"
      ],
      "metadata": {
        "colab": {
          "base_uri": "https://localhost:8080/"
        },
        "id": "WDmOmPliE2op",
        "outputId": "0a956f69-ff89-4e7c-c50c-a73e40debc61"
      },
      "execution_count": null,
      "outputs": [
        {
          "output_type": "execute_result",
          "data": {
            "text/plain": [
              "array([[-0.04296024,  0.05427148, -0.02382556,  0.02447845,  0.00366114]])"
            ]
          },
          "metadata": {},
          "execution_count": 4
        }
      ]
    },
    {
      "cell_type": "code",
      "source": [
        "predicted_labels = p.predict(np.array(input_data[:50,:]))"
      ],
      "metadata": {
        "id": "5ThZNuAhE6QR"
      },
      "execution_count": null,
      "outputs": []
    },
    {
      "cell_type": "code",
      "source": [
        "print(f'Predicted labels: {predicted_labels}')\n",
        "print(f'Actual labels: {input_labels[:50]}')"
      ],
      "metadata": {
        "colab": {
          "base_uri": "https://localhost:8080/"
        },
        "id": "rRFTASgnE85Y",
        "outputId": "a5830697-2329-49f8-e3e2-5cb32c1dba60"
      },
      "execution_count": null,
      "outputs": [
        {
          "output_type": "stream",
          "name": "stdout",
          "text": [
            "Predicted labels: [[1]\n",
            " [1]\n",
            " [1]\n",
            " [1]\n",
            " [1]\n",
            " [1]\n",
            " [1]\n",
            " [1]\n",
            " [1]\n",
            " [1]\n",
            " [1]\n",
            " [1]\n",
            " [1]\n",
            " [1]\n",
            " [1]\n",
            " [1]\n",
            " [1]\n",
            " [1]\n",
            " [1]\n",
            " [1]\n",
            " [1]\n",
            " [1]\n",
            " [1]\n",
            " [1]\n",
            " [1]\n",
            " [1]\n",
            " [1]\n",
            " [1]\n",
            " [1]\n",
            " [1]\n",
            " [1]\n",
            " [1]\n",
            " [1]\n",
            " [1]\n",
            " [1]\n",
            " [1]\n",
            " [1]\n",
            " [1]\n",
            " [1]\n",
            " [1]\n",
            " [1]\n",
            " [1]\n",
            " [1]\n",
            " [1]\n",
            " [1]\n",
            " [1]\n",
            " [1]\n",
            " [1]\n",
            " [1]\n",
            " [1]]\n",
            "Actual labels: [0. 1. 1. 0. 0. 1. 0. 0. 0. 0. 0. 0. 1. 0. 1. 1. 1. 1. 0. 1. 0. 1. 0. 1.\n",
            " 1. 0. 0. 0. 0. 0. 0. 0. 0. 1. 0. 0. 1. 0. 1. 0. 1. 0. 1. 0. 1. 0. 1. 1.\n",
            " 1. 1.]\n"
          ]
        }
      ]
    }
  ]
}